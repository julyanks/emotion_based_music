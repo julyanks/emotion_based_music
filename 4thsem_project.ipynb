{
  "nbformat": 4,
  "nbformat_minor": 0,
  "metadata": {
    "colab": {
      "name": "4thsem_project.ipynb",
      "provenance": [],
      "mount_file_id": "1Rkq65nHU93WC59ttA6gCPR_YKKyI1gDd",
      "authorship_tag": "ABX9TyM2KoRpiwj5X4WvIwFmGmcD",
      "include_colab_link": true
    },
    "kernelspec": {
      "name": "python3",
      "display_name": "Python 3"
    },
    "language_info": {
      "name": "python"
    }
  },
  "cells": [
    {
      "cell_type": "markdown",
      "metadata": {
        "id": "view-in-github",
        "colab_type": "text"
      },
      "source": [
        "<a href=\"https://colab.research.google.com/github/julyanks/emotion_based_music/blob/main/4thsem_project.ipynb\" target=\"_parent\"><img src=\"https://colab.research.google.com/assets/colab-badge.svg\" alt=\"Open In Colab\"/></a>"
      ]
    },
    {
      "cell_type": "code",
      "source": [
        "import zipfile\n",
        "target='/content/drive/MyDrive/Colab Notebooks/archive1+2.zip'\n",
        "new=zipfile.ZipFile(target)\n",
        "new.extractall('/content/drive/MyDrive/destination')\n",
        "new.close()"
      ],
      "metadata": {
        "id": "ueSS4BfxNHat"
      },
      "execution_count": null,
      "outputs": []
    },
    {
      "cell_type": "code",
      "source": [
        "import numpy as np\n",
        "import os\n",
        "import cv2"
      ],
      "metadata": {
        "id": "0UCypKYN3Iyo"
      },
      "execution_count": null,
      "outputs": []
    },
    {
      "cell_type": "code",
      "source": [
        "data='/content/drive/MyDrive/destination'\n",
        "\n",
        "sub_data=[\"happy\",\"sad\"]"
      ],
      "metadata": {
        "id": "rFXcl9fk2sze"
      },
      "execution_count": null,
      "outputs": []
    },
    {
      "cell_type": "code",
      "source": [
        "i=0\n",
        "labels=[]\n",
        "images=[]\n",
        "last=[]\n",
        "d1=[]\n",
        "\n",
        "for category in sub_data:\n",
        "  path=os.path.join(data,category)\n",
        "  ind=sub_data.index(category)\n",
        "  label=ind\n",
        "  sub_data_img=os.listdir(path)\n",
        "\n",
        "  for img in sub_data_img:\n",
        "    ip=path+'/'+img\n",
        "    print(ip+\"\\t\"+str(label))\n",
        "\n",
        "    img=cv2.imread(ip)\n",
        "    img=cv2.resize(img,(100,100))\n",
        "    \n",
        "    images.append(img)\n",
        "    labels.append(label)\n",
        "    d1.append([img,label])\n",
        "    i+=1\n",
        "  last.append(i)\n",
        "\n"
      ],
      "metadata": {
        "id": "6aAbcMMFPVTR",
        "colab": {
          "base_uri": "https://localhost:8080/"
        },
        "outputId": "5b62cc56-00b4-481a-fdeb-785a223d95cd"
      },
      "execution_count": null,
      "outputs": [
        {
          "output_type": "stream",
          "name": "stdout",
          "text": [
            "/content/drive/MyDrive/destination/happy/f44035c6ff386e2e0c9fa9a6262767f8.png\t0\n",
            "/content/drive/MyDrive/destination/happy/42751-claas-joy-happy-face-contentment-child-human-being-photocase-stock-photo-large.jpeg\t0\n",
            "/content/drive/MyDrive/destination/happy/happy-face-super-joyful-person-260nw-492254167.jpg\t0\n",
            "/content/drive/MyDrive/destination/happy/538692449_cb1853bb50.jpg\t0\n",
            "/content/drive/MyDrive/destination/happy/an-woman-happy-face-beautiful-smile-isolated-white-people-positive-142996803.jpg\t0\n",
            "/content/drive/MyDrive/destination/happy/5a9c3230b2d9360001dd82f4.w800.jpg\t0\n",
            "/content/drive/MyDrive/destination/happy/child-girl-blond-smile-happy-light-human-face.jpg\t0\n",
            "/content/drive/MyDrive/destination/happy/313625278.jpg\t0\n",
            "/content/drive/MyDrive/destination/happy/-happy-face-human-expressions-emotions-latin-model-beautiful-smile-150784563.jpg\t0\n",
            "/content/drive/MyDrive/destination/happy/girl-smiling-happy-face-wallpaper-preview.jpg\t0\n",
            "/content/drive/MyDrive/destination/happy/21090108-cute-smiling-little-girl-on-the-meadow-in-summer-day.jpg\t0\n",
            "/content/drive/MyDrive/destination/happy/e8f0c35dda1194f5dbb6182739fe936a.jpg\t0\n",
            "/content/drive/MyDrive/destination/happy/Smiling-Blone-Girl-Face-720x405.jpg\t0\n",
            "/content/drive/MyDrive/destination/happy/292115365.jpg\t0\n",
            "/content/drive/MyDrive/destination/happy/6cr5ddgzi.png\t0\n",
            "/content/drive/MyDrive/destination/happy/500_F_206825373_PfhE4TyHbpUXggBKdTLZYn0HcuRCP9rf.jpg\t0\n",
            "/content/drive/MyDrive/destination/happy/closeup-portrait-happy-mature-man-260nw-287228201.jpg\t0\n",
            "/content/drive/MyDrive/destination/happy/an-smiling-happy-face-human-expressions-having-fun-posing-modeling-146997204.jpg\t0\n",
            "/content/drive/MyDrive/destination/happy/13860cc2c1a35e343c4c69e51bf9ea37.jpg\t0\n",
            "/content/drive/MyDrive/destination/happy/depositphotos_19266867-stock-photo-happy.jpg\t0\n",
            "/content/drive/MyDrive/destination/happy/Proposed-3D-happy-face-of-virtual-human_Q640.jpg\t0\n",
            "/content/drive/MyDrive/destination/happy/happy-face-png-favpng-vZrP4qjRBVg1bBucTJhTJ85ku.jpg\t0\n",
            "/content/drive/MyDrive/destination/happy/220px-Laughing_boy_at_golden_hour.jpg\t0\n",
            "/content/drive/MyDrive/destination/happy/8d56b8263a6a65a31bead75c599ee0e2--people-laughing-smiley-faces.jpg\t0\n",
            "/content/drive/MyDrive/destination/happy/313620493.jpg\t0\n",
            "/content/drive/MyDrive/destination/happy/0815db06df850e27e74411a3232ffa3e.jpg\t0\n",
            "/content/drive/MyDrive/destination/happy/happy-young-woman-C9629M.jpg\t0\n",
            "/content/drive/MyDrive/destination/happy/500_F_246149573_1dbnEopMZjSflWG4ZvojXhVVV8cTewTW.jpg\t0\n",
            "/content/drive/MyDrive/destination/happy/happy-girl-shows-gesture-cool-260nw-116734885.jpg\t0\n",
            "/content/drive/MyDrive/destination/happy/666379-laugh-joy-happy-face-harmonious-well-being-contentment-photocase-stock-photo-large.jpeg\t0\n",
            "/content/drive/MyDrive/destination/happy/23-239534_our-smileys-for-your-business-u2013-because-happy.png\t0\n",
            "/content/drive/MyDrive/destination/happy/6aefbbc556900e05a336d8a616a310d6.jpg\t0\n",
            "/content/drive/MyDrive/destination/happy/2509234-beautiful-brunette-woman-lifestyle-happy-face-relaxation-photocase-stock-photo-large.jpeg\t0\n",
            "/content/drive/MyDrive/destination/happy/Your-brain-recognizes-as-a-real-human-smiling-face-but-not--scaled.jpg\t0\n",
            "/content/drive/MyDrive/destination/happy/2556396-portrait-of-happy-child-joy-happy-beautiful-face-life-photocase-stock-photo-large.jpeg\t0\n",
            "/content/drive/MyDrive/destination/happy/an-standing-isolated-over-yellow-background-showing-thumbs-up-looking-camera.jpg\t0\n",
            "/content/drive/MyDrive/destination/happy/GGIA-HumanFace_472_315_s_c1.jpg\t0\n",
            "/content/drive/MyDrive/destination/happy/girl_laugh_face_215748.jpg\t0\n",
            "/content/drive/MyDrive/destination/happy/11096052bf9e2b86ea304ae01ff252f6--children-laughing-make-me-smile.jpg\t0\n",
            "/content/drive/MyDrive/destination/happy/depositphotos_74340667-stock-photo-smiling-human-face-women.jpg\t0\n",
            "/content/drive/MyDrive/destination/happy/earing-smart-clothes-positive-human-facial-expressions-and-emotions-i-W3KFEK.jpg\t0\n",
            "/content/drive/MyDrive/destination/happy/close-up-happy-face-boy_1150-12122.jpg\t0\n",
            "/content/drive/MyDrive/destination/happy/311964130.jpg\t0\n",
            "/content/drive/MyDrive/destination/happy/500_F_276373458_s9GM3TEj9oKaAi1kfqbW2EE58JyirakZ.jpg\t0\n",
            "/content/drive/MyDrive/destination/happy/colorful-cartoon-human-female-happy-face-vector-13895179.jpg\t0\n",
            "/content/drive/MyDrive/destination/happy/42120239-men-human-face-smiling-.jpg\t0\n",
            "/content/drive/MyDrive/destination/happy/165-1659709_politically-incorrect-thread-happy-human-face-png.png\t0\n",
            "/content/drive/MyDrive/destination/happy/images32.jpg\t0\n",
            "/content/drive/MyDrive/destination/happy/image5.jpeg\t0\n",
            "/content/drive/MyDrive/destination/happy/images13.jpg\t0\n",
            "/content/drive/MyDrive/destination/happy/images.jpg\t0\n",
            "/content/drive/MyDrive/destination/happy/images20.jpg\t0\n",
            "/content/drive/MyDrive/destination/happy/image9.jpeg\t0\n",
            "/content/drive/MyDrive/destination/happy/images34.jpg\t0\n",
            "/content/drive/MyDrive/destination/happy/image27.jpeg\t0\n",
            "/content/drive/MyDrive/destination/happy/image20.jpeg\t0\n",
            "/content/drive/MyDrive/destination/happy/images21.jpg\t0\n",
            "/content/drive/MyDrive/destination/happy/images28.jpg\t0\n",
            "/content/drive/MyDrive/destination/happy/image11.jpeg\t0\n",
            "/content/drive/MyDrive/destination/happy/images25.jpg\t0\n",
            "/content/drive/MyDrive/destination/happy/image22.jpeg\t0\n",
            "/content/drive/MyDrive/destination/happy/images22.jpg\t0\n",
            "/content/drive/MyDrive/destination/happy/image18.jpeg\t0\n",
            "/content/drive/MyDrive/destination/happy/image23.jpeg\t0\n",
            "/content/drive/MyDrive/destination/happy/image29.jpeg\t0\n",
            "/content/drive/MyDrive/destination/happy/image2.jpeg\t0\n",
            "/content/drive/MyDrive/destination/happy/images18.jpg\t0\n",
            "/content/drive/MyDrive/destination/happy/images31.jpg\t0\n",
            "/content/drive/MyDrive/destination/happy/image21.jpeg\t0\n",
            "/content/drive/MyDrive/destination/happy/image6.jpeg\t0\n",
            "/content/drive/MyDrive/destination/happy/images27.jpg\t0\n",
            "/content/drive/MyDrive/destination/happy/images3.jpg\t0\n",
            "/content/drive/MyDrive/destination/happy/healthy-woman-teeth-smile-close-260nw-71197141.jpg\t0\n",
            "/content/drive/MyDrive/destination/happy/image14.jpeg\t0\n",
            "/content/drive/MyDrive/destination/happy/images19.jpg\t0\n",
            "/content/drive/MyDrive/destination/happy/image15.jpeg\t0\n",
            "/content/drive/MyDrive/destination/happy/image16.jpeg\t0\n",
            "/content/drive/MyDrive/destination/happy/images11.jpg\t0\n",
            "/content/drive/MyDrive/destination/happy/image19.jpeg\t0\n",
            "/content/drive/MyDrive/destination/happy/image24.jpeg\t0\n",
            "/content/drive/MyDrive/destination/happy/image30.jpeg\t0\n",
            "/content/drive/MyDrive/destination/happy/images15.jpg\t0\n",
            "/content/drive/MyDrive/destination/happy/image28.jpeg\t0\n",
            "/content/drive/MyDrive/destination/happy/images12.jpg\t0\n",
            "/content/drive/MyDrive/destination/happy/images26.jpg\t0\n",
            "/content/drive/MyDrive/destination/happy/image.jpeg\t0\n",
            "/content/drive/MyDrive/destination/happy/images16.jpg\t0\n",
            "/content/drive/MyDrive/destination/happy/images29.jpg\t0\n",
            "/content/drive/MyDrive/destination/happy/image25.jpeg\t0\n",
            "/content/drive/MyDrive/destination/happy/image12.jpeg\t0\n",
            "/content/drive/MyDrive/destination/happy/images14.jpg\t0\n",
            "/content/drive/MyDrive/destination/happy/image17.jpeg\t0\n",
            "/content/drive/MyDrive/destination/happy/images17.jpg\t0\n",
            "/content/drive/MyDrive/destination/happy/image7.jpeg\t0\n",
            "/content/drive/MyDrive/destination/happy/image10.jpeg\t0\n",
            "/content/drive/MyDrive/destination/happy/human-face-expressions-emotions-young-260nw-442881877.jpg\t0\n",
            "/content/drive/MyDrive/destination/happy/images10.jpg\t0\n",
            "/content/drive/MyDrive/destination/happy/images23.jpg\t0\n",
            "/content/drive/MyDrive/destination/happy/image3.jpeg\t0\n",
            "/content/drive/MyDrive/destination/happy/image26.jpeg\t0\n",
            "/content/drive/MyDrive/destination/happy/image8.jpeg\t0\n",
            "/content/drive/MyDrive/destination/happy/image13.jpeg\t0\n",
            "/content/drive/MyDrive/destination/happy/images30.jpg\t0\n",
            "/content/drive/MyDrive/destination/happy/image4.jpeg\t0\n",
            "/content/drive/MyDrive/destination/happy/image1.jpeg\t0\n",
            "/content/drive/MyDrive/destination/happy/images1.jpg\t0\n",
            "/content/drive/MyDrive/destination/happy/images41.jpg\t0\n",
            "/content/drive/MyDrive/destination/happy/images68.jpg\t0\n",
            "/content/drive/MyDrive/destination/happy/images97.jpg\t0\n",
            "/content/drive/MyDrive/destination/happy/images54.jpg\t0\n",
            "/content/drive/MyDrive/destination/happy/images42.jpg\t0\n",
            "/content/drive/MyDrive/destination/happy/images65.jpg\t0\n",
            "/content/drive/MyDrive/destination/happy/images74.jpg\t0\n",
            "/content/drive/MyDrive/destination/happy/images47.jpg\t0\n",
            "/content/drive/MyDrive/destination/happy/images95.jpg\t0\n",
            "/content/drive/MyDrive/destination/happy/images96.jpg\t0\n",
            "/content/drive/MyDrive/destination/happy/images83.jpg\t0\n",
            "/content/drive/MyDrive/destination/happy/images4.jpg\t0\n",
            "/content/drive/MyDrive/destination/happy/images61.jpg\t0\n",
            "/content/drive/MyDrive/destination/happy/images38.jpg\t0\n",
            "/content/drive/MyDrive/destination/happy/images73.jpg\t0\n",
            "/content/drive/MyDrive/destination/happy/images71.jpg\t0\n",
            "/content/drive/MyDrive/destination/happy/images85.jpg\t0\n",
            "/content/drive/MyDrive/destination/happy/images91.jpg\t0\n",
            "/content/drive/MyDrive/destination/happy/images35.jpg\t0\n",
            "/content/drive/MyDrive/destination/happy/images9.jpg\t0\n",
            "/content/drive/MyDrive/destination/happy/images67.jpg\t0\n",
            "/content/drive/MyDrive/destination/happy/images50.jpg\t0\n",
            "/content/drive/MyDrive/destination/happy/images88.jpg\t0\n",
            "/content/drive/MyDrive/destination/happy/images72.jpg\t0\n",
            "/content/drive/MyDrive/destination/happy/images62.jpg\t0\n",
            "/content/drive/MyDrive/destination/happy/images58.jpg\t0\n",
            "/content/drive/MyDrive/destination/happy/images69.jpg\t0\n",
            "/content/drive/MyDrive/destination/happy/images55.jpg\t0\n",
            "/content/drive/MyDrive/destination/happy/images63.jpg\t0\n",
            "/content/drive/MyDrive/destination/happy/images43.jpg\t0\n",
            "/content/drive/MyDrive/destination/happy/images49.jpg\t0\n",
            "/content/drive/MyDrive/destination/happy/images75.jpg\t0\n",
            "/content/drive/MyDrive/destination/happy/images36.jpg\t0\n",
            "/content/drive/MyDrive/destination/happy/images84.jpg\t0\n",
            "/content/drive/MyDrive/destination/happy/images98.jpg\t0\n",
            "/content/drive/MyDrive/destination/happy/images6.jpg\t0\n",
            "/content/drive/MyDrive/destination/happy/images53.jpg\t0\n",
            "/content/drive/MyDrive/destination/happy/images56.jpg\t0\n",
            "/content/drive/MyDrive/destination/happy/images81.jpg\t0\n",
            "/content/drive/MyDrive/destination/happy/images78.jpg\t0\n",
            "/content/drive/MyDrive/destination/happy/images39.jpg\t0\n",
            "/content/drive/MyDrive/destination/happy/images77.jpg\t0\n",
            "/content/drive/MyDrive/destination/happy/images64.jpg\t0\n",
            "/content/drive/MyDrive/destination/happy/images40.jpg\t0\n",
            "/content/drive/MyDrive/destination/happy/images93.jpg\t0\n",
            "/content/drive/MyDrive/destination/happy/images5.jpg\t0\n",
            "/content/drive/MyDrive/destination/happy/images60.jpg\t0\n",
            "/content/drive/MyDrive/destination/happy/images45.jpg\t0\n",
            "/content/drive/MyDrive/destination/happy/images87.jpg\t0\n",
            "/content/drive/MyDrive/destination/happy/images90.jpg\t0\n",
            "/content/drive/MyDrive/destination/happy/images57.jpg\t0\n",
            "/content/drive/MyDrive/destination/happy/images89.jpg\t0\n",
            "/content/drive/MyDrive/destination/happy/images46.jpg\t0\n",
            "/content/drive/MyDrive/destination/happy/images8.jpg\t0\n",
            "/content/drive/MyDrive/destination/happy/images94.jpg\t0\n",
            "/content/drive/MyDrive/destination/happy/images59.jpg\t0\n",
            "/content/drive/MyDrive/destination/happy/images76.jpg\t0\n",
            "/content/drive/MyDrive/destination/happy/images51.jpg\t0\n",
            "/content/drive/MyDrive/destination/happy/images7.jpg\t0\n",
            "/content/drive/MyDrive/destination/happy/images86.jpg\t0\n",
            "/content/drive/MyDrive/destination/happy/images92.jpg\t0\n",
            "/content/drive/MyDrive/destination/happy/smiling_woman_with_sunglasses_197791.jpg\t0\n",
            "/content/drive/MyDrive/destination/happy/ppy-face-human-expressions-emotions-model-beautiful-smile-handsome-145517730.jpg\t0\n",
            "/content/drive/MyDrive/destination/happy/nama51ba1mix.jpg\t0\n",
            "/content/drive/MyDrive/destination/happy/smiling_woman_behind_board_202630.jpg\t0\n",
            "/content/drive/MyDrive/destination/happy/oseup-of-beautiful-happy-girl-with-perfect-smile-white-teeth-smiling-at-came.jpg\t0\n",
            "/content/drive/MyDrive/destination/happy/smiling_woman_with_hat_197444.jpg\t0\n",
            "/content/drive/MyDrive/destination/happy/ve-man-smiling-happy-face-isolated-gray-close-up-portrait-handsome-141587961.jpg\t0\n",
            "/content/drive/MyDrive/destination/happy/portrait-cute-little-smiling-girl-260nw-1248974617.jpg\t0\n",
            "/content/drive/MyDrive/destination/happy/latin-woman-happy-face-beautiful-smile-isolated-neutral-background-154263808.jpg\t0\n",
            "/content/drive/MyDrive/destination/happy/model_in_a_hat_198842.jpg\t0\n",
            "/content/drive/MyDrive/destination/happy/ng-happy-face-human-expressions-emotions-close-up-pretty-caucasian-154068992.jpg\t0\n",
            "/content/drive/MyDrive/destination/happy/smile-536305_960_720.jpg\t0\n",
            "/content/drive/MyDrive/destination/happy/tive-man-happy-face-human-emotion-expression-having-fun-joy-camera-137916424.jpg\t0\n",
            "/content/drive/MyDrive/destination/happy/sture-human-emotions-expressions-portrait-young-schoolgirl-feeling-148946548.jpg\t0\n",
            "/content/drive/MyDrive/destination/happy/n-with-happy-face-expression-people-portraits-isolated-in-neutral-bac-W1FJB7.jpg\t0\n",
            "/content/drive/MyDrive/destination/happy/stock-photo-child-smiley-face-human-face-291471524.jpg\t0\n",
            "/content/drive/MyDrive/destination/happy/smiling-face-mark-thomasscience-photo-library.jpg\t0\n",
            "/content/drive/MyDrive/destination/happy/tty-young-caucasian-girl-with-happy-face-and-beautiful-smile-looking-surpris.jpg\t0\n",
            "/content/drive/MyDrive/destination/happy/with-surprised-and-happy-face-and-gestures-in-facial-expression-human-T1T5ME.jpg\t0\n",
            "/content/drive/MyDrive/destination/happy/man-glasses-person-face-smile-happy-model-bart-human.jpg\t0\n",
            "/content/drive/MyDrive/destination/happy/tive-man-happy-face-human-emotion-expression-having-fun-joy-camera-152138892.jpg\t0\n",
            "/content/drive/MyDrive/destination/happy/pexels-photo-8139611.jpeg\t0\n",
            "/content/drive/MyDrive/destination/happy/tive-man-happy-face-human-emotion-expression-having-fun-joy-camera-137916435.jpg\t0\n",
            "/content/drive/MyDrive/destination/happy/n-girl-happy-face-beautiful-smile-isolated-white-background-people-141688397.jpg\t0\n",
            "/content/drive/MyDrive/destination/happy/myvideo_frames0_jpg.rf.c04ce12787a98adda063167756e30f76.jpg\t0\n",
            "/content/drive/MyDrive/destination/sad/6e0032f369e59d1a187a2ac56558e935.png\t1\n",
            "/content/drive/MyDrive/destination/sad/-woman-sad-face-looking-unhappy-camera-close-up-portrait-beautiful-115700630.jpg\t1\n",
            "/content/drive/MyDrive/destination/sad/40-sad-faces-photos-12.jpg\t1\n",
            "/content/drive/MyDrive/destination/sad/241-2417123_emilia-clarke-sad-face-hd-png-download.png\t1\n",
            "/content/drive/MyDrive/destination/sad/-sad-face-unhappiness-human-emotion-beautiful-miserable-young-girl-141688759.jpg\t1\n",
            "/content/drive/MyDrive/destination/sad/15d08746a9fd00b308a8da6c2bc3d07b--sad-faces-child-portraits.jpg\t1\n",
            "/content/drive/MyDrive/destination/sad/-sad-face-unhappiness-human-emotion-beautiful-miserable-young-girl-153489135.jpg\t1\n",
            "/content/drive/MyDrive/destination/sad/33854450352_4649a684d2_b.jpg\t1\n",
            "/content/drive/MyDrive/destination/sad/7e955b0ceac3b596901dddab8ceaf985.jpg\t1\n",
            "/content/drive/MyDrive/destination/sad/1c64dRTT5NhhpwvkvcuwU1Q.png\t1\n",
            "/content/drive/MyDrive/destination/sad/Examples-of-facial-expressions-used-in-the-three-anchor-conditions-anger-sad-and-sick_Q320.jpg\t1\n",
            "/content/drive/MyDrive/destination/sad/-sad-face-unhappiness-human-emotion-beautiful-miserable-young-girl-141689223.jpg\t1\n",
            "/content/drive/MyDrive/destination/sad/22757028-sad-man.jpg\t1\n",
            "/content/drive/MyDrive/destination/sad/40-sad-faces-photos-39.jpg\t1\n",
            "/content/drive/MyDrive/destination/sad/40-sad-faces-photos-8.jpg\t1\n",
            "/content/drive/MyDrive/destination/sad/32ccf73df1fb01dbe568409dd872f8c2.jpg\t1\n",
            "/content/drive/MyDrive/destination/sad/2.jpg\t1\n",
            "/content/drive/MyDrive/destination/sad/108-1089836_baby-crying-png-background-image-sad-face-human_6293.png\t1\n",
            "/content/drive/MyDrive/destination/sad/7d9e907c4b1c2e8c521650bb400b303f.jpg\t1\n",
            "/content/drive/MyDrive/destination/sad/293f0c545b9f6505ebed442e94633df5--kind-sauerkraut.jpg\t1\n",
            "/content/drive/MyDrive/destination/sad/0a1cdc74e125c10e1319fbeb28d54e5d--sad-faces-human-faces.jpg\t1\n",
            "/content/drive/MyDrive/destination/sad/5a1c32d21b7377cc18c08bb8771be302.jpg\t1\n",
            "/content/drive/MyDrive/destination/sad/2911aa3170a204c2dea5998523146dbf.jpg\t1\n",
            "/content/drive/MyDrive/destination/sad/015e584e68dfff4fd68a871b60ec9882.jpg\t1\n",
            "/content/drive/MyDrive/destination/sad/aughter-tooth-emotion-born-small-child-live-new-portrait-photography-1093630.jpg\t1\n",
            "/content/drive/MyDrive/destination/sad/da137f6c69cac7f0c40e65dfa3469f83.jpg\t1\n",
            "/content/drive/MyDrive/destination/sad/image2.jpeg\t1\n",
            "/content/drive/MyDrive/destination/sad/image29.jpeg\t1\n",
            "/content/drive/MyDrive/destination/sad/Puppy_Face.JPG.jpg\t1\n",
            "/content/drive/MyDrive/destination/sad/image.jpeg\t1\n",
            "/content/drive/MyDrive/destination/sad/image1.jpeg\t1\n",
            "/content/drive/MyDrive/destination/sad/image28.jpeg\t1\n",
            "/content/drive/MyDrive/destination/sad/f0f818279df366accb9449e7bd0347db.jpg\t1\n",
            "/content/drive/MyDrive/destination/sad/image26.jpeg\t1\n",
            "/content/drive/MyDrive/destination/sad/image4.jpeg\t1\n",
            "/content/drive/MyDrive/destination/sad/images.jpg\t1\n",
            "/content/drive/MyDrive/destination/sad/cartoon-boy-sad-face.jpg\t1\n",
            "/content/drive/MyDrive/destination/sad/image13.jpeg\t1\n",
            "/content/drive/MyDrive/destination/sad/image25.jpeg\t1\n",
            "/content/drive/MyDrive/destination/sad/image17.jpeg\t1\n",
            "/content/drive/MyDrive/destination/sad/image5.jpeg\t1\n",
            "/content/drive/MyDrive/destination/sad/images10.jpg\t1\n",
            "/content/drive/MyDrive/destination/sad/image20.jpeg\t1\n",
            "/content/drive/MyDrive/destination/sad/Funny-Human-Sad-Face-Picture.jpg\t1\n",
            "/content/drive/MyDrive/destination/sad/fc74a9d0d3dd8800469bf816981be523.jpg\t1\n",
            "/content/drive/MyDrive/destination/sad/image9.jpeg\t1\n",
            "/content/drive/MyDrive/destination/sad/d-face-looking-depressed-unhappy-close-up-portrait-handsome-crying-153222300.jpg\t1\n",
            "/content/drive/MyDrive/destination/sad/ain-sad-exhausted-face-human-emotions-facial-expression-retirement-128516153.jpg\t1\n",
            "/content/drive/MyDrive/destination/sad/ce40690a05df4e0dece86baec91b8101.jpg\t1\n",
            "/content/drive/MyDrive/destination/sad/image10.jpeg\t1\n",
            "/content/drive/MyDrive/destination/sad/image24.jpeg\t1\n",
            "/content/drive/MyDrive/destination/sad/d-young-woman-with-unhappy-face-looking-miserable-and-depressed-human-facial.jpg\t1\n",
            "/content/drive/MyDrive/destination/sad/e5744bb93fdd2528b6ac0f6fe72ae348.jpg\t1\n",
            "/content/drive/MyDrive/destination/sad/image27.jpeg\t1\n",
            "/content/drive/MyDrive/destination/sad/image19.jpeg\t1\n",
            "/content/drive/MyDrive/destination/sad/image15.jpeg\t1\n",
            "/content/drive/MyDrive/destination/sad/image30.jpeg\t1\n",
            "/content/drive/MyDrive/destination/sad/image6.jpeg\t1\n",
            "/content/drive/MyDrive/destination/sad/image21.jpeg\t1\n",
            "/content/drive/MyDrive/destination/sad/d-face-looking-depressed-unhappy-close-up-portrait-handsome-crying-153222343.jpg\t1\n",
            "/content/drive/MyDrive/destination/sad/image3.jpeg\t1\n",
            "/content/drive/MyDrive/destination/sad/a74c9204aca7b14d7bf3e5da29f358fc--face-photography-crying-photography.jpg\t1\n",
            "/content/drive/MyDrive/destination/sad/appy-face-feeling-emotional-pain-human-facial-expressions-negative-141688849.jpg\t1\n",
            "/content/drive/MyDrive/destination/sad/ad-face-unhappiness-human-emotion-portrait-beautiful-sad-miserable-153489099.jpg\t1\n",
            "/content/drive/MyDrive/destination/sad/image16.jpeg\t1\n",
            "/content/drive/MyDrive/destination/sad/images13.jpg\t1\n",
            "/content/drive/MyDrive/destination/sad/image12.jpeg\t1\n",
            "/content/drive/MyDrive/destination/sad/image22.jpeg\t1\n",
            "/content/drive/MyDrive/destination/sad/image18.jpeg\t1\n",
            "/content/drive/MyDrive/destination/sad/ace-looking-miserable-melancholy-human-facial-expressions-negative-139155053.jpg\t1\n",
            "/content/drive/MyDrive/destination/sad/image11.jpeg\t1\n",
            "/content/drive/MyDrive/destination/sad/images11.jpg\t1\n",
            "/content/drive/MyDrive/destination/sad/d-face-looking-depressed-unhappy-close-up-portrait-handsome-crying-139799701.jpg\t1\n",
            "/content/drive/MyDrive/destination/sad/image14.jpeg\t1\n",
            "/content/drive/MyDrive/destination/sad/image23.jpeg\t1\n",
            "/content/drive/MyDrive/destination/sad/sad-face-portrait-girl.jpg\t1\n",
            "/content/drive/MyDrive/destination/sad/pexels-photo-1091659.jpeg\t1\n",
            "/content/drive/MyDrive/destination/sad/kTMKj8npc.jpg\t1\n",
            "/content/drive/MyDrive/destination/sad/n-sad-face-looking-down-hopeless-close-up-portrait-beautiful-young-139154913.jpg\t1\n",
            "/content/drive/MyDrive/destination/sad/images29.jpg\t1\n",
            "/content/drive/MyDrive/destination/sad/images2.jpg\t1\n",
            "/content/drive/MyDrive/destination/sad/images8.jpg\t1\n",
            "/content/drive/MyDrive/destination/sad/sad-little-girl-pigtails-portrait-260nw-1269412360.jpg\t1\n",
            "/content/drive/MyDrive/destination/sad/portrait-sad-crying-man-8195352.jpg\t1\n",
            "/content/drive/MyDrive/destination/sad/images4.jpg\t1\n",
            "/content/drive/MyDrive/destination/sad/images3.jpg\t1\n",
            "/content/drive/MyDrive/destination/sad/sad-facial-expression.jpg\t1\n",
            "/content/drive/MyDrive/destination/sad/images26.jpg\t1\n",
            "/content/drive/MyDrive/destination/sad/images6.jpg\t1\n",
            "/content/drive/MyDrive/destination/sad/man-tears-tear-look-royalty-free-thumbnail.jpg\t1\n",
            "/content/drive/MyDrive/destination/sad/images19.jpg\t1\n",
            "/content/drive/MyDrive/destination/sad/tenor.png\t1\n",
            "/content/drive/MyDrive/destination/sad/images25.jpg\t1\n",
            "/content/drive/MyDrive/destination/sad/images23.jpg\t1\n",
            "/content/drive/MyDrive/destination/sad/portrait-sad-man-260nw-126009806.jpg\t1\n",
            "/content/drive/MyDrive/destination/sad/images22.jpg\t1\n",
            "/content/drive/MyDrive/destination/sad/img_1183.jpg\t1\n",
            "/content/drive/MyDrive/destination/sad/images14.jpg\t1\n",
            "/content/drive/MyDrive/destination/sad/images20.jpg\t1\n",
            "/content/drive/MyDrive/destination/sad/images24.jpg\t1\n",
            "/content/drive/MyDrive/destination/sad/man-depressed-face-looking-sad-unhappy-close-up-portrait-beautiful-117693915.jpg\t1\n",
            "/content/drive/MyDrive/destination/sad/images21.jpg\t1\n",
            "/content/drive/MyDrive/destination/sad/images27.jpg\t1\n",
            "/content/drive/MyDrive/destination/sad/images17.jpg\t1\n",
            "/content/drive/MyDrive/destination/sad/images16.jpg\t1\n",
            "/content/drive/MyDrive/destination/sad/man-depressed-face-looking-sad-unhappy-close-up-portrait-beautiful-117693906.jpg\t1\n",
            "/content/drive/MyDrive/destination/sad/images5.jpg\t1\n",
            "/content/drive/MyDrive/destination/sad/images9.jpg\t1\n"
          ]
        }
      ]
    },
    {
      "cell_type": "code",
      "source": [
        "len(d1)"
      ],
      "metadata": {
        "colab": {
          "base_uri": "https://localhost:8080/"
        },
        "id": "fr5AZpPdnu6D",
        "outputId": "dab4918b-4cf1-448e-c290-be05afbd0afd"
      },
      "execution_count": null,
      "outputs": [
        {
          "output_type": "execute_result",
          "data": {
            "text/plain": [
              "300"
            ]
          },
          "metadata": {},
          "execution_count": 18
        }
      ]
    },
    {
      "cell_type": "code",
      "source": [
        "import random\n",
        "random.shuffle(d1)"
      ],
      "metadata": {
        "id": "q8llcUjCn3DT"
      },
      "execution_count": null,
      "outputs": []
    },
    {
      "cell_type": "code",
      "source": [
        "import matplotlib.pyplot as plt\n",
        "%matplotlib inline\n",
        "plt.imshow(images[230] ,cmap='gray')\n",
        "\n",
        "plt.show()\n",
        "print(labels[230])"
      ],
      "metadata": {
        "id": "S6TF-d57Y5Tj",
        "colab": {
          "base_uri": "https://localhost:8080/",
          "height": 285
        },
        "outputId": "2674e7b5-2644-4491-ddc3-5c9898fa3921"
      },
      "execution_count": null,
      "outputs": [
        {
          "output_type": "display_data",
          "data": {
            "text/plain": [
              "<Figure size 432x288 with 1 Axes>"
            ],
            "image/png": "[encoded data removed]"
          },
          "metadata": {
            "needs_background": "light"
          }
        },
        {
          "output_type": "stream",
          "name": "stdout",
          "text": [
            "1\n"
          ]
        }
      ]
    },
    {
      "cell_type": "code",
      "source": [
        "x=[]\n",
        "y=[]\n",
        "for features,labels in d1:\n",
        "  x.append(features)\n",
        "  y.append(labels)\n"
      ],
      "metadata": {
        "id": "M9ipwO2bWAym"
      },
      "execution_count": null,
      "outputs": []
    },
    {
      "cell_type": "code",
      "source": [
        "x=np.array(x)\n",
        "y=np.array(y)\n",
        "x=x/255    #features scaling, lesser value- faster calculations"
      ],
      "metadata": {
        "id": "IFI_HfaapiD5"
      },
      "execution_count": null,
      "outputs": []
    },
    {
      "cell_type": "code",
      "source": [
        "x.shape\n"
      ],
      "metadata": {
        "id": "G2o8F4RVrhfu",
        "outputId": "d4050dca-1aa1-4a48-d133-cdc65dcc7245",
        "colab": {
          "base_uri": "https://localhost:8080/"
        }
      },
      "execution_count": null,
      "outputs": [
        {
          "output_type": "execute_result",
          "data": {
            "text/plain": [
              "(300, 100, 100, 3)"
            ]
          },
          "metadata": {},
          "execution_count": 23
        }
      ]
    },
    {
      "cell_type": "code",
      "source": [
        "from sklearn.model_selection import train_test_split\n",
        "xtrain,xtest,ytrain,ytest =train_test_split(x,y,test_size=0.25,random_state=44)\n",
        "print(len(xtrain))\n",
        "print(len(xtest))"
      ],
      "metadata": {
        "id": "d3z_nYe8_fpV",
        "colab": {
          "base_uri": "https://localhost:8080/"
        },
        "outputId": "7d48fc20-efe9-43f7-9126-54c7f08c16be"
      },
      "execution_count": null,
      "outputs": [
        {
          "output_type": "stream",
          "name": "stdout",
          "text": [
            "225\n",
            "75\n"
          ]
        }
      ]
    },
    {
      "cell_type": "code",
      "source": [
        "from keras.models import Sequential\n",
        "from keras.layers import Conv2D,MaxPooling2D,Dense,Flatten\n",
        "trainmodel=Sequential([\n",
        "                       Conv2D(64,(3,3),activation='relu'),\n",
        "                       MaxPooling2D((2,2)),\n",
        "\n",
        "                      Conv2D(64,(3,3),activation='relu'),\n",
        "                      MaxPooling2D((2,2)),\n",
        "                       \n",
        "                      Flatten(),\n",
        "                  \n",
        "                  Dense(128,input_shape=x.shape[1:],activation='relu'),\n",
        "                \n",
        "                   Dense(2,activation='sigmoid')\n",
        "])\n"
      ],
      "metadata": {
        "id": "pNuWcJ4328cI"
      },
      "execution_count": null,
      "outputs": []
    },
    {
      "cell_type": "code",
      "source": [
        "trainmodel.compile(optimizer='adam',loss=['sparse_categorical_crossentropy'],metrics=['accuracy'])"
      ],
      "metadata": {
        "id": "3-uJqclc5-Us"
      },
      "execution_count": null,
      "outputs": []
    },
    {
      "cell_type": "code",
      "source": [
        "trainmodel.fit(xtrain,ytrain,validation_data=(xtest,ytest),epochs=50)"
      ],
      "metadata": {
        "id": "zvCqgOZQ6yrs",
        "colab": {
          "base_uri": "https://localhost:8080/"
        },
        "outputId": "127fcca4-bfeb-48d0-ed5c-12677f41fcb6"
      },
      "execution_count": null,
      "outputs": [
        {
          "output_type": "stream",
          "name": "stdout",
          "text": [
            "Epoch 1/50\n",
            "8/8 [==============================] - 6s 726ms/step - loss: 1.1422 - accuracy: 0.4667 - val_loss: 0.6681 - val_accuracy: 0.6933\n",
            "Epoch 2/50\n",
            "8/8 [==============================] - 6s 702ms/step - loss: 0.6077 - accuracy: 0.6533 - val_loss: 0.5806 - val_accuracy: 0.6667\n",
            "Epoch 3/50\n",
            "8/8 [==============================] - 6s 701ms/step - loss: 0.5753 - accuracy: 0.7022 - val_loss: 0.5294 - val_accuracy: 0.7333\n",
            "Epoch 4/50\n",
            "8/8 [==============================] - 7s 856ms/step - loss: 0.5048 - accuracy: 0.7911 - val_loss: 1.1654 - val_accuracy: 0.3467\n",
            "Epoch 5/50\n",
            "8/8 [==============================] - 7s 752ms/step - loss: 0.6476 - accuracy: 0.6222 - val_loss: 0.6576 - val_accuracy: 0.6800\n",
            "Epoch 6/50\n",
            "8/8 [==============================] - 6s 704ms/step - loss: 0.4876 - accuracy: 0.7689 - val_loss: 0.5392 - val_accuracy: 0.7333\n",
            "Epoch 7/50\n",
            "8/8 [==============================] - 6s 700ms/step - loss: 0.3919 - accuracy: 0.8311 - val_loss: 0.5409 - val_accuracy: 0.7067\n",
            "Epoch 8/50\n",
            "8/8 [==============================] - 6s 702ms/step - loss: 0.2799 - accuracy: 0.8622 - val_loss: 0.5483 - val_accuracy: 0.7200\n",
            "Epoch 9/50\n",
            "8/8 [==============================] - 6s 709ms/step - loss: 0.2409 - accuracy: 0.8978 - val_loss: 0.5101 - val_accuracy: 0.8000\n",
            "Epoch 10/50\n",
            "8/8 [==============================] - 6s 713ms/step - loss: 0.1798 - accuracy: 0.9467 - val_loss: 0.4667 - val_accuracy: 0.8533\n",
            "Epoch 11/50\n",
            "8/8 [==============================] - 8s 1000ms/step - loss: 0.1150 - accuracy: 0.9644 - val_loss: 0.4691 - val_accuracy: 0.8400\n",
            "Epoch 12/50\n",
            "8/8 [==============================] - 6s 736ms/step - loss: 0.0745 - accuracy: 0.9822 - val_loss: 0.6457 - val_accuracy: 0.7600\n",
            "Epoch 13/50\n",
            "8/8 [==============================] - 12s 1s/step - loss: 0.1147 - accuracy: 0.9644 - val_loss: 0.5739 - val_accuracy: 0.8133\n",
            "Epoch 14/50\n",
            "8/8 [==============================] - 10s 1s/step - loss: 0.0602 - accuracy: 0.9778 - val_loss: 0.4832 - val_accuracy: 0.8133\n",
            "Epoch 15/50\n",
            "8/8 [==============================] - 8s 960ms/step - loss: 0.0554 - accuracy: 0.9911 - val_loss: 0.5623 - val_accuracy: 0.8667\n",
            "Epoch 16/50\n",
            "8/8 [==============================] - 12s 2s/step - loss: 0.0467 - accuracy: 0.9867 - val_loss: 0.6281 - val_accuracy: 0.8133\n",
            "Epoch 17/50\n",
            "8/8 [==============================] - 7s 793ms/step - loss: 0.0303 - accuracy: 0.9911 - val_loss: 0.6760 - val_accuracy: 0.8133\n",
            "Epoch 18/50\n",
            "8/8 [==============================] - 6s 692ms/step - loss: 0.0121 - accuracy: 1.0000 - val_loss: 0.6887 - val_accuracy: 0.8133\n",
            "Epoch 19/50\n",
            "8/8 [==============================] - 6s 694ms/step - loss: 0.0093 - accuracy: 1.0000 - val_loss: 0.6973 - val_accuracy: 0.8267\n",
            "Epoch 20/50\n",
            "8/8 [==============================] - 6s 696ms/step - loss: 0.0048 - accuracy: 1.0000 - val_loss: 0.7366 - val_accuracy: 0.8267\n",
            "Epoch 21/50\n",
            "8/8 [==============================] - 6s 703ms/step - loss: 0.0032 - accuracy: 1.0000 - val_loss: 0.8113 - val_accuracy: 0.8133\n",
            "Epoch 22/50\n",
            "8/8 [==============================] - 6s 696ms/step - loss: 0.0028 - accuracy: 1.0000 - val_loss: 0.8412 - val_accuracy: 0.8133\n",
            "Epoch 23/50\n",
            "8/8 [==============================] - 6s 701ms/step - loss: 0.0022 - accuracy: 1.0000 - val_loss: 0.8359 - val_accuracy: 0.8267\n",
            "Epoch 24/50\n",
            "8/8 [==============================] - 6s 697ms/step - loss: 0.0017 - accuracy: 1.0000 - val_loss: 0.8588 - val_accuracy: 0.8133\n",
            "Epoch 25/50\n",
            "8/8 [==============================] - 6s 696ms/step - loss: 0.0015 - accuracy: 1.0000 - val_loss: 0.8830 - val_accuracy: 0.8133\n",
            "Epoch 26/50\n",
            "8/8 [==============================] - 6s 693ms/step - loss: 0.0014 - accuracy: 1.0000 - val_loss: 0.8721 - val_accuracy: 0.8133\n",
            "Epoch 27/50\n",
            "8/8 [==============================] - 6s 702ms/step - loss: 0.0012 - accuracy: 1.0000 - val_loss: 0.9060 - val_accuracy: 0.8267\n",
            "Epoch 28/50\n",
            "8/8 [==============================] - 6s 696ms/step - loss: 0.0011 - accuracy: 1.0000 - val_loss: 0.8940 - val_accuracy: 0.8133\n",
            "Epoch 29/50\n",
            "8/8 [==============================] - 6s 754ms/step - loss: 0.0010 - accuracy: 1.0000 - val_loss: 0.9143 - val_accuracy: 0.8133\n",
            "Epoch 30/50\n",
            "8/8 [==============================] - 7s 942ms/step - loss: 8.8555e-04 - accuracy: 1.0000 - val_loss: 0.9307 - val_accuracy: 0.8133\n",
            "Epoch 31/50\n",
            "8/8 [==============================] - 6s 693ms/step - loss: 8.0029e-04 - accuracy: 1.0000 - val_loss: 0.9236 - val_accuracy: 0.8133\n",
            "Epoch 32/50\n",
            "8/8 [==============================] - 6s 701ms/step - loss: 7.3337e-04 - accuracy: 1.0000 - val_loss: 0.9276 - val_accuracy: 0.8133\n",
            "Epoch 33/50\n",
            "8/8 [==============================] - 6s 698ms/step - loss: 6.7107e-04 - accuracy: 1.0000 - val_loss: 0.9299 - val_accuracy: 0.8133\n",
            "Epoch 34/50\n",
            "8/8 [==============================] - 6s 699ms/step - loss: 6.5789e-04 - accuracy: 1.0000 - val_loss: 0.9344 - val_accuracy: 0.8133\n",
            "Epoch 35/50\n",
            "8/8 [==============================] - 6s 701ms/step - loss: 5.6620e-04 - accuracy: 1.0000 - val_loss: 0.9676 - val_accuracy: 0.8133\n",
            "Epoch 36/50\n",
            "8/8 [==============================] - 6s 698ms/step - loss: 5.7261e-04 - accuracy: 1.0000 - val_loss: 0.9672 - val_accuracy: 0.8133\n",
            "Epoch 37/50\n",
            "8/8 [==============================] - 6s 704ms/step - loss: 5.1460e-04 - accuracy: 1.0000 - val_loss: 0.9673 - val_accuracy: 0.8133\n",
            "Epoch 38/50\n",
            "8/8 [==============================] - 6s 698ms/step - loss: 4.7092e-04 - accuracy: 1.0000 - val_loss: 0.9718 - val_accuracy: 0.8133\n",
            "Epoch 39/50\n",
            "8/8 [==============================] - 6s 697ms/step - loss: 4.6602e-04 - accuracy: 1.0000 - val_loss: 0.9934 - val_accuracy: 0.8267\n",
            "Epoch 40/50\n",
            "8/8 [==============================] - 6s 702ms/step - loss: 4.4436e-04 - accuracy: 1.0000 - val_loss: 0.9732 - val_accuracy: 0.8133\n",
            "Epoch 41/50\n",
            "8/8 [==============================] - 6s 692ms/step - loss: 4.0035e-04 - accuracy: 1.0000 - val_loss: 0.9744 - val_accuracy: 0.8133\n",
            "Epoch 42/50\n",
            "8/8 [==============================] - 6s 804ms/step - loss: 3.6360e-04 - accuracy: 1.0000 - val_loss: 0.9893 - val_accuracy: 0.8133\n",
            "Epoch 43/50\n",
            "8/8 [==============================] - 6s 695ms/step - loss: 3.4581e-04 - accuracy: 1.0000 - val_loss: 0.9945 - val_accuracy: 0.8133\n",
            "Epoch 44/50\n",
            "8/8 [==============================] - 6s 700ms/step - loss: 3.2731e-04 - accuracy: 1.0000 - val_loss: 0.9911 - val_accuracy: 0.8133\n",
            "Epoch 45/50\n",
            "8/8 [==============================] - 8s 980ms/step - loss: 3.1314e-04 - accuracy: 1.0000 - val_loss: 0.9915 - val_accuracy: 0.8133\n",
            "Epoch 46/50\n",
            "8/8 [==============================] - 6s 690ms/step - loss: 2.9429e-04 - accuracy: 1.0000 - val_loss: 0.9957 - val_accuracy: 0.8133\n",
            "Epoch 47/50\n",
            "8/8 [==============================] - 6s 705ms/step - loss: 2.9202e-04 - accuracy: 1.0000 - val_loss: 0.9917 - val_accuracy: 0.8133\n",
            "Epoch 48/50\n",
            "8/8 [==============================] - 6s 695ms/step - loss: 2.6164e-04 - accuracy: 1.0000 - val_loss: 1.0214 - val_accuracy: 0.8133\n",
            "Epoch 49/50\n",
            "8/8 [==============================] - 6s 706ms/step - loss: 2.5309e-04 - accuracy: 1.0000 - val_loss: 1.0199 - val_accuracy: 0.8133\n",
            "Epoch 50/50\n",
            "8/8 [==============================] - 6s 696ms/step - loss: 2.3266e-04 - accuracy: 1.0000 - val_loss: 1.0205 - val_accuracy: 0.8133\n"
          ]
        },
        {
          "output_type": "execute_result",
          "data": {
            "text/plain": [
              "<keras.callbacks.History at 0x7f07bc980c90>"
            ]
          },
          "metadata": {},
          "execution_count": 29
        }
      ]
    },
    {
      "cell_type": "code",
      "source": [
        "trainmodel.summary()"
      ],
      "metadata": {
        "colab": {
          "base_uri": "https://localhost:8080/"
        },
        "id": "Rz2uigKrA5Pj",
        "outputId": "a46028aa-22c2-41b3-cb7e-1523d4c2727c"
      },
      "execution_count": null,
      "outputs": [
        {
          "output_type": "stream",
          "name": "stdout",
          "text": [
            "Model: \"sequential_1\"\n",
            "_________________________________________________________________\n",
            " Layer (type)                Output Shape              Param #   \n",
            "=================================================================\n",
            " conv2d_2 (Conv2D)           (None, 98, 98, 64)        1792      \n",
            "                                                                 \n",
            " max_pooling2d_2 (MaxPooling  (None, 49, 49, 64)       0         \n",
            " 2D)                                                             \n",
            "                                                                 \n",
            " conv2d_3 (Conv2D)           (None, 47, 47, 64)        36928     \n",
            "                                                                 \n",
            " max_pooling2d_3 (MaxPooling  (None, 23, 23, 64)       0         \n",
            " 2D)                                                             \n",
            "                                                                 \n",
            " flatten_1 (Flatten)         (None, 33856)             0         \n",
            "                                                                 \n",
            " dense_2 (Dense)             (None, 128)               4333696   \n",
            "                                                                 \n",
            " dense_3 (Dense)             (None, 2)                 258       \n",
            "                                                                 \n",
            "=================================================================\n",
            "Total params: 4,372,674\n",
            "Trainable params: 4,372,674\n",
            "Non-trainable params: 0\n",
            "_________________________________________________________________\n"
          ]
        }
      ]
    },
    {
      "cell_type": "code",
      "source": [
        "trainmodel.save(\"finalmodel.h5\")\n"
      ],
      "metadata": {
        "id": "afsQPYONEYTU"
      },
      "execution_count": null,
      "outputs": []
    },
    {
      "cell_type": "code",
      "source": [
        "from keras.models import load_model\n",
        "loadingmodel=load_model(\"finalmodel.h5\")"
      ],
      "metadata": {
        "id": "GayRx-oXCy4n"
      },
      "execution_count": null,
      "outputs": []
    },
    {
      "cell_type": "code",
      "source": [
        "from keras.preprocessing import image\n",
        "test=image.load_img('/content/drive/MyDrive/sad2.jpg',target_size=(100,100))\n",
        "plt.imshow(test)\n",
        "plt.show()\n",
        "test=image.img_to_array(test)\n",
        "test=np.expand_dims(test,axis=0)\n",
        "result=loadingmodel.predict(test)\n",
        "np.save(\"emotion.npy\",np.array([result]))\n",
        "if(result[0][0]==1):\n",
        "  pred=\" oh ! you are looking sad\"\n",
        "  print(pred)\n",
        "else:\n",
        "  pred=\"oh ! you are looking happy\"\n",
        "  print(pred)"
      ],
      "metadata": {
        "id": "N-DYfdKG6hBn",
        "colab": {
          "base_uri": "https://localhost:8080/",
          "height": 285
        },
        "outputId": "d8615f4c-fe3f-4e6d-a5a7-338fb9a7d442"
      },
      "execution_count": null,
      "outputs": [
        {
          "output_type": "display_data",
          "data": {
            "text/plain": [
              "<Figure size 432x288 with 1 Axes>"
            ],
            "image/png": "[encoded data removed]"
          },
          "metadata": {
            "needs_background": "light"
          }
        },
        {
          "output_type": "stream",
          "name": "stdout",
          "text": [
            " oh ! you are looking sad\n"
          ]
        }
      ]
    },
    {
      "cell_type": "code",
      "source": [
        "import pandas as pd"
      ],
      "metadata": {
        "id": "v6KPV9wVGcgB"
      },
      "execution_count": null,
      "outputs": []
    },
    {
      "cell_type": "code",
      "source": [
        "emotion=np.load(\"emotion.npy\")"
      ],
      "metadata": {
        "id": "v6xkdSoJHoKk"
      },
      "execution_count": null,
      "outputs": []
    },
    {
      "cell_type": "code",
      "source": [
        "if(emotion==\"Happy\"):\n",
        "  df=pd.read_csv(\"/content/drive/MyDrive/Happy.csv\")\n",
        "else:\n",
        "  df=pd.read_csv(\"/content/drive/MyDrive/Sad.csv\")"
      ],
      "metadata": {
        "colab": {
          "base_uri": "https://localhost:8080/"
        },
        "id": "19SAEL3gHgMb",
        "outputId": "1e122567-8143-4ca6-e709-2b1fffc0dabb"
      },
      "execution_count": null,
      "outputs": [
        {
          "output_type": "stream",
          "name": "stderr",
          "text": [
            "/usr/local/lib/python3.7/dist-packages/ipykernel_launcher.py:1: FutureWarning: elementwise comparison failed; returning scalar instead, but in the future will perform elementwise comparison\n",
            "  \"\"\"Entry point for launching an IPython kernel.\n"
          ]
        }
      ]
    },
    {
      "cell_type": "code",
      "source": [
        "df.head()"
      ],
      "metadata": {
        "id": "3boohYQEINXB",
        "outputId": "5a5ec13c-e32c-4fb9-d9f0-d5fb82727cd5",
        "colab": {
          "base_uri": "https://localhost:8080/",
          "height": 175
        }
      },
      "execution_count": null,
      "outputs": [
        {
          "output_type": "execute_result",
          "data": {
            "text/plain": [
              "   Unnamed: 0                         Name       Album  \\\n",
              "0           0                    khairiyat  chhichhore   \n",
              "1           1  mai dhoondne ko zamane mein   heartless   \n",
              "2           2                     qafirana   keadrnath   \n",
              "3           3                      titlian     titlian   \n",
              "\n",
              "                        Artist  \\\n",
              "0          arijit singh,pritam   \n",
              "1                 arijit singh   \n",
              "2  arijit singh, nikita gandhi   \n",
              "3                  afsana khan   \n",
              "\n",
              "                                                 url  \n",
              "0  https://open.spotify.com/track/5O932cZmzOZGOGZ...  \n",
              "1  https://open.spotify.com/track/43YkTTlOD203o9E...  \n",
              "2  https://open.spotify.com/track/0xkGTPTijMU84dt...  \n",
              "3  https://open.spotify.com/track/1980E4Grgu5xAhN...  "
            ],
            "text/html": [
              "\n",
              "  <div id=\"df-8becbbd7-59d9-4775-a6ee-f61b8305fa28\">\n",
              "    <div class=\"colab-df-container\">\n",
              "      <div>\n",
              "<style scoped>\n",
              "    .dataframe tbody tr th:only-of-type {\n",
              "        vertical-align: middle;\n",
              "    }\n",
              "\n",
              "    .dataframe tbody tr th {\n",
              "        vertical-align: top;\n",
              "    }\n",
              "\n",
              "    .dataframe thead th {\n",
              "        text-align: right;\n",
              "    }\n",
              "</style>\n",
              "<table border=\"1\" class=\"dataframe\">\n",
              "  <thead>\n",
              "    <tr style=\"text-align: right;\">\n",
              "      <th></th>\n",
              "      <th>Unnamed: 0</th>\n",
              "      <th>Name</th>\n",
              "      <th>Album</th>\n",
              "      <th>Artist</th>\n",
              "      <th>url</th>\n",
              "    </tr>\n",
              "  </thead>\n",
              "  <tbody>\n",
              "    <tr>\n",
              "      <th>0</th>\n",
              "      <td>0</td>\n",
              "      <td>khairiyat</td>\n",
              "      <td>chhichhore</td>\n",
              "      <td>arijit singh,pritam</td>\n",
              "      <td>https://open.spotify.com/track/5O932cZmzOZGOGZ...</td>\n",
              "    </tr>\n",
              "    <tr>\n",
              "      <th>1</th>\n",
              "      <td>1</td>\n",
              "      <td>mai dhoondne ko zamane mein</td>\n",
              "      <td>heartless</td>\n",
              "      <td>arijit singh</td>\n",
              "      <td>https://open.spotify.com/track/43YkTTlOD203o9E...</td>\n",
              "    </tr>\n",
              "    <tr>\n",
              "      <th>2</th>\n",
              "      <td>2</td>\n",
              "      <td>qafirana</td>\n",
              "      <td>keadrnath</td>\n",
              "      <td>arijit singh, nikita gandhi</td>\n",
              "      <td>https://open.spotify.com/track/0xkGTPTijMU84dt...</td>\n",
              "    </tr>\n",
              "    <tr>\n",
              "      <th>3</th>\n",
              "      <td>3</td>\n",
              "      <td>titlian</td>\n",
              "      <td>titlian</td>\n",
              "      <td>afsana khan</td>\n",
              "      <td>https://open.spotify.com/track/1980E4Grgu5xAhN...</td>\n",
              "    </tr>\n",
              "  </tbody>\n",
              "</table>\n",
              "</div>\n",
              "      <button class=\"colab-df-convert\" onclick=\"convertToInteractive('df-8becbbd7-59d9-4775-a6ee-f61b8305fa28')\"\n",
              "              title=\"Convert this dataframe to an interactive table.\"\n",
              "              style=\"display:none;\">\n",
              "        \n",
              "  <svg xmlns=\"http://www.w3.org/2000/svg\" height=\"24px\"viewBox=\"0 0 24 24\"\n",
              "       width=\"24px\">\n",
              "    <path d=\"M0 0h24v24H0V0z\" fill=\"none\"/>\n",
              "    <path d=\"M18.56 5.44l.94 2.06.94-2.06 2.06-.94-2.06-.94-.94-2.06-.94 2.06-2.06.94zm-11 1L8.5 8.5l.94-2.06 2.06-.94-2.06-.94L8.5 2.5l-.94 2.06-2.06.94zm10 10l.94 2.06.94-2.06 2.06-.94-2.06-.94-.94-2.06-.94 2.06-2.06.94z\"/><path d=\"M17.41 7.96l-1.37-1.37c-.4-.4-.92-.59-1.43-.59-.52 0-1.04.2-1.43.59L10.3 9.45l-7.72 7.72c-.78.78-.78 2.05 0 2.83L4 21.41c.39.39.9.59 1.41.59.51 0 1.02-.2 1.41-.59l7.78-7.78 2.81-2.81c.8-.78.8-2.07 0-2.86zM5.41 20L4 18.59l7.72-7.72 1.47 1.35L5.41 20z\"/>\n",
              "  </svg>\n",
              "      </button>\n",
              "      \n",
              "  <style>\n",
              "    .colab-df-container {\n",
              "      display:flex;\n",
              "      flex-wrap:wrap;\n",
              "      gap: 12px;\n",
              "    }\n",
              "\n",
              "    .colab-df-convert {\n",
              "      background-color: #E8F0FE;\n",
              "      border: none;\n",
              "      border-radius: 50%;\n",
              "      cursor: pointer;\n",
              "      display: none;\n",
              "      fill: #1967D2;\n",
              "      height: 32px;\n",
              "      padding: 0 0 0 0;\n",
              "      width: 32px;\n",
              "    }\n",
              "\n",
              "    .colab-df-convert:hover {\n",
              "      background-color: #E2EBFA;\n",
              "      box-shadow: 0px 1px 2px rgba(60, 64, 67, 0.3), 0px 1px 3px 1px rgba(60, 64, 67, 0.15);\n",
              "      fill: #174EA6;\n",
              "    }\n",
              "\n",
              "    [theme=dark] .colab-df-convert {\n",
              "      background-color: #3B4455;\n",
              "      fill: #D2E3FC;\n",
              "    }\n",
              "\n",
              "    [theme=dark] .colab-df-convert:hover {\n",
              "      background-color: #434B5C;\n",
              "      box-shadow: 0px 1px 3px 1px rgba(0, 0, 0, 0.15);\n",
              "      filter: drop-shadow(0px 1px 2px rgba(0, 0, 0, 0.3));\n",
              "      fill: #FFFFFF;\n",
              "    }\n",
              "  </style>\n",
              "\n",
              "      <script>\n",
              "        const buttonEl =\n",
              "          document.querySelector('#df-8becbbd7-59d9-4775-a6ee-f61b8305fa28 button.colab-df-convert');\n",
              "        buttonEl.style.display =\n",
              "          google.colab.kernel.accessAllowed ? 'block' : 'none';\n",
              "\n",
              "        async function convertToInteractive(key) {\n",
              "          const element = document.querySelector('#df-8becbbd7-59d9-4775-a6ee-f61b8305fa28');\n",
              "          const dataTable =\n",
              "            await google.colab.kernel.invokeFunction('convertToInteractive',\n",
              "                                                     [key], {});\n",
              "          if (!dataTable) return;\n",
              "\n",
              "          const docLinkHtml = 'Like what you see? Visit the ' +\n",
              "            '<a target=\"_blank\" href=https://colab.research.google.com/notebooks/data_table.ipynb>data table notebook</a>'\n",
              "            + ' to learn more about interactive tables.';\n",
              "          element.innerHTML = '';\n",
              "          dataTable['output_type'] = 'display_data';\n",
              "          await google.colab.output.renderOutput(dataTable, element);\n",
              "          const docLink = document.createElement('div');\n",
              "          docLink.innerHTML = docLinkHtml;\n",
              "          element.appendChild(docLink);\n",
              "        }\n",
              "      </script>\n",
              "    </div>\n",
              "  </div>\n",
              "  "
            ]
          },
          "metadata": {},
          "execution_count": 39
        }
      ]
    }
  ]
}