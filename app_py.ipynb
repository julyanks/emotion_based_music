{
  "cells": [
    {
      "cell_type": "markdown",
      "metadata": {
        "id": "view-in-github",
        "colab_type": "text"
      },
      "source": [
        "<a href=\"https://colab.research.google.com/github/julyanks/emotion_based_music/blob/main/app_py.ipynb\" target=\"_parent\"><img src=\"https://colab.research.google.com/assets/colab-badge.svg\" alt=\"Open In Colab\"/></a>"
      ]
    },
    {
      "cell_type": "code",
      "execution_count": null,
      "metadata": {
        "id": "wx5IMZqMHSET"
      },
      "outputs": [],
      "source": [
        "!pip install flask-ngrok"
      ]
    },
    {
      "cell_type": "code",
      "execution_count": null,
      "metadata": {
        "id": "C7hFw_L_HTg9",
        "colab": {
          "base_uri": "https://localhost:8080/"
        },
        "outputId": "7426769c-f9bb-47b1-ed13-286e80c2e9ae"
      },
      "outputs": [
        {
          "output_type": "stream",
          "name": "stdout",
          "text": [
            "Looking in indexes: https://pypi.org/simple, https://us-python.pkg.dev/colab-wheels/public/simple/\n",
            "Requirement already satisfied: pyngrok in /usr/local/lib/python3.7/dist-packages (5.1.0)\n",
            "Requirement already satisfied: PyYAML in /usr/local/lib/python3.7/dist-packages (from pyngrok) (3.13)\n"
          ]
        }
      ],
      "source": [
        "!pip install pyngrok"
      ]
    },
    {
      "cell_type": "code",
      "execution_count": null,
      "metadata": {
        "id": "ghVrBGMMHV-t",
        "colab": {
          "base_uri": "https://localhost:8080/"
        },
        "outputId": "122cea85-9a2a-44d8-9683-43419e9619c5"
      },
      "outputs": [
        {
          "output_type": "stream",
          "name": "stdout",
          "text": [
            "Authtoken saved to configuration file: /root/.ngrok2/ngrok.yml\n"
          ]
        }
      ],
      "source": [
        "! ngrok authtoken 'your authtoken here'\n"
      ]
    },
    {
      "cell_type": "code",
      "execution_count": null,
      "metadata": {
        "id": "9vpjlpix2tty"
      },
      "outputs": [],
      "source": [
        "import numpy as np\n",
        "from flask import Flask,render_template,request\n",
        "from flask_ngrok import run_with_ngrok"
      ]
    },
    {
      "cell_type": "code",
      "execution_count": null,
      "metadata": {
        "id": "O3HDK3Vi3PYF"
      },
      "outputs": [],
      "source": [
        "from keras.models import load_model\n",
        "loadingmodel=load_model(\"/content/drive/MyDrive/finalmodel.h5\")"
      ]
    },
    {
      "cell_type": "code",
      "execution_count": null,
      "metadata": {
        "id": "07yMelYZ_ZSi"
      },
      "outputs": [],
      "source": [
        "app = Flask(__name__,template_folder='/content/drive/MyDrive/Colab Notebooks')\n",
        "run_with_ngrok(app)"
      ]
    },
    {
      "cell_type": "code",
      "execution_count": null,
      "metadata": {
        "id": "RbMHH2XL9GAW"
      },
      "outputs": [],
      "source": [
        "from keras.preprocessing import image\n",
        "dic={0:\"Happy\",1:\"Sad\"}\n",
        "def prediction(img_path):\n",
        "  test=image.load_img(img_path,target_size=(100,100))\n",
        "  test=image.img_to_array(test)\n",
        "  test=np.expand_dims(test,axis=0)\n",
        "  result=loadingmodel.predict(test)\n",
        "  return dic[result[0][0]]"
      ]
    },
    {
      "cell_type": "code",
      "execution_count": null,
      "metadata": {
        "id": "rJYuETOY9wUT"
      },
      "outputs": [],
      "source": [
        "@app.route('/')\n",
        "def main():\n",
        "\treturn render_template(\"4thsem_HTML.html\")\n",
        "@app.route('/submit', methods = ['GET', 'POST'])\n",
        "def get_output():\n",
        "\tglobal img_path\n",
        "\tglobal p\n",
        "\tif request.method == 'POST':\n",
        "\t\timg = request.files['my_image']\n",
        "\t\timg_path =  img.filename #'''\"static/\" + '''\n",
        "\t\timg.save(img_path)\n",
        "\tp = prediction(img_path)\n",
        "\tnp.save(\"emotion.npy\",np.array([p]))\n",
        "        \n",
        "\treturn render_template(\"4thsem_HTML.html\", prediction = p, imgpath = img_path)\n",
        "\n",
        "\n",
        "app.run()"
      ]
    },
    {
      "cell_type": "code",
      "source": [
        "import pandas as pd"
      ],
      "metadata": {
        "id": "VOT7pGRH8SDA"
      },
      "execution_count": null,
      "outputs": []
    },
    {
      "cell_type": "code",
      "source": [
        "emotion=np.load(\"emotion.npy\")"
      ],
      "metadata": {
        "id": "jjcuk52KwGX6"
      },
      "execution_count": null,
      "outputs": []
    },
    {
      "cell_type": "code",
      "source": [
        "if(emotion=='Happy'):\n",
        "  df=pd.read_csv(\"/content/drive/MyDrive/Happy.csv\")\n",
        "else:\n",
        "  df=pd.read_csv(\"/content/drive/MyDrive/Sad.csv\")"
      ],
      "metadata": {
        "id": "LdUxWoJ-cVH8"
      },
      "execution_count": null,
      "outputs": []
    },
    {
      "cell_type": "code",
      "source": [
        "df.head()"
      ],
      "metadata": {
        "id": "rrS8GVZTounX",
        "colab": {
          "base_uri": "https://localhost:8080/",
          "height": 214
        },
        "outputId": "417ef6b3-5659-48c8-9c57-b462d25e1e2f"
      },
      "execution_count": null,
      "outputs": [
        {
          "output_type": "execute_result",
          "data": {
            "text/plain": [
              "   Unnamed: 0                    Name           Album  \\\n",
              "0           0         gallan goodiyan  Dil dhadkne do   \n",
              "1           1       kudi nu nachne de  angrezi medium   \n",
              "2           2        tum hi ho bandhu        cocktail   \n",
              "3           3  hai apna dil toh awara    hai apna dil   \n",
              "4           4               goa beach       goa beach   \n",
              "\n",
              "                        Artist  \\\n",
              "0  Yashita sharma,manish kumar   \n",
              "1               vishal dadlani   \n",
              "2              neeraj shridhar   \n",
              "3              sanam,rd barman   \n",
              "4     neha kakkar, tony kakkar   \n",
              "\n",
              "                                                 url  \n",
              "0  https://open.spotify.com/track/7hNYvX0qAKrxtVr...  \n",
              "1  https://open.spotify.com/track/4YIhJmihoXwjtbY...  \n",
              "2  https://open.spotify.com/track/4pE05HNzmVFGpCO...  \n",
              "3  https://open.spotify.com/track/0gWQyG8QoBmB3Hm...  \n",
              "4  https://open.spotify.com/track/4obyqyCX0Vx839P...  "
            ],
            "text/html": [
              "\n",
              "  <div id=\"df-01ee3dab-c0af-4285-8a53-1a3f46f9da92\">\n",
              "    <div class=\"colab-df-container\">\n",
              "      <div>\n",
              "<style scoped>\n",
              "    .dataframe tbody tr th:only-of-type {\n",
              "        vertical-align: middle;\n",
              "    }\n",
              "\n",
              "    .dataframe tbody tr th {\n",
              "        vertical-align: top;\n",
              "    }\n",
              "\n",
              "    .dataframe thead th {\n",
              "        text-align: right;\n",
              "    }\n",
              "</style>\n",
              "<table border=\"1\" class=\"dataframe\">\n",
              "  <thead>\n",
              "    <tr style=\"text-align: right;\">\n",
              "      <th></th>\n",
              "      <th>Unnamed: 0</th>\n",
              "      <th>Name</th>\n",
              "      <th>Album</th>\n",
              "      <th>Artist</th>\n",
              "      <th>url</th>\n",
              "    </tr>\n",
              "  </thead>\n",
              "  <tbody>\n",
              "    <tr>\n",
              "      <th>0</th>\n",
              "      <td>0</td>\n",
              "      <td>gallan goodiyan</td>\n",
              "      <td>Dil dhadkne do</td>\n",
              "      <td>Yashita sharma,manish kumar</td>\n",
              "      <td>https://open.spotify.com/track/7hNYvX0qAKrxtVr...</td>\n",
              "    </tr>\n",
              "    <tr>\n",
              "      <th>1</th>\n",
              "      <td>1</td>\n",
              "      <td>kudi nu nachne de</td>\n",
              "      <td>angrezi medium</td>\n",
              "      <td>vishal dadlani</td>\n",
              "      <td>https://open.spotify.com/track/4YIhJmihoXwjtbY...</td>\n",
              "    </tr>\n",
              "    <tr>\n",
              "      <th>2</th>\n",
              "      <td>2</td>\n",
              "      <td>tum hi ho bandhu</td>\n",
              "      <td>cocktail</td>\n",
              "      <td>neeraj shridhar</td>\n",
              "      <td>https://open.spotify.com/track/4pE05HNzmVFGpCO...</td>\n",
              "    </tr>\n",
              "    <tr>\n",
              "      <th>3</th>\n",
              "      <td>3</td>\n",
              "      <td>hai apna dil toh awara</td>\n",
              "      <td>hai apna dil</td>\n",
              "      <td>sanam,rd barman</td>\n",
              "      <td>https://open.spotify.com/track/0gWQyG8QoBmB3Hm...</td>\n",
              "    </tr>\n",
              "    <tr>\n",
              "      <th>4</th>\n",
              "      <td>4</td>\n",
              "      <td>goa beach</td>\n",
              "      <td>goa beach</td>\n",
              "      <td>neha kakkar, tony kakkar</td>\n",
              "      <td>https://open.spotify.com/track/4obyqyCX0Vx839P...</td>\n",
              "    </tr>\n",
              "  </tbody>\n",
              "</table>\n",
              "</div>\n",
              "      <button class=\"colab-df-convert\" onclick=\"convertToInteractive('df-01ee3dab-c0af-4285-8a53-1a3f46f9da92')\"\n",
              "              title=\"Convert this dataframe to an interactive table.\"\n",
              "              style=\"display:none;\">\n",
              "        \n",
              "  <svg xmlns=\"http://www.w3.org/2000/svg\" height=\"24px\"viewBox=\"0 0 24 24\"\n",
              "       width=\"24px\">\n",
              "    <path d=\"M0 0h24v24H0V0z\" fill=\"none\"/>\n",
              "    <path d=\"M18.56 5.44l.94 2.06.94-2.06 2.06-.94-2.06-.94-.94-2.06-.94 2.06-2.06.94zm-11 1L8.5 8.5l.94-2.06 2.06-.94-2.06-.94L8.5 2.5l-.94 2.06-2.06.94zm10 10l.94 2.06.94-2.06 2.06-.94-2.06-.94-.94-2.06-.94 2.06-2.06.94z\"/><path d=\"M17.41 7.96l-1.37-1.37c-.4-.4-.92-.59-1.43-.59-.52 0-1.04.2-1.43.59L10.3 9.45l-7.72 7.72c-.78.78-.78 2.05 0 2.83L4 21.41c.39.39.9.59 1.41.59.51 0 1.02-.2 1.41-.59l7.78-7.78 2.81-2.81c.8-.78.8-2.07 0-2.86zM5.41 20L4 18.59l7.72-7.72 1.47 1.35L5.41 20z\"/>\n",
              "  </svg>\n",
              "      </button>\n",
              "      \n",
              "  <style>\n",
              "    .colab-df-container {\n",
              "      display:flex;\n",
              "      flex-wrap:wrap;\n",
              "      gap: 12px;\n",
              "    }\n",
              "\n",
              "    .colab-df-convert {\n",
              "      background-color: #E8F0FE;\n",
              "      border: none;\n",
              "      border-radius: 50%;\n",
              "      cursor: pointer;\n",
              "      display: none;\n",
              "      fill: #1967D2;\n",
              "      height: 32px;\n",
              "      padding: 0 0 0 0;\n",
              "      width: 32px;\n",
              "    }\n",
              "\n",
              "    .colab-df-convert:hover {\n",
              "      background-color: #E2EBFA;\n",
              "      box-shadow: 0px 1px 2px rgba(60, 64, 67, 0.3), 0px 1px 3px 1px rgba(60, 64, 67, 0.15);\n",
              "      fill: #174EA6;\n",
              "    }\n",
              "\n",
              "    [theme=dark] .colab-df-convert {\n",
              "      background-color: #3B4455;\n",
              "      fill: #D2E3FC;\n",
              "    }\n",
              "\n",
              "    [theme=dark] .colab-df-convert:hover {\n",
              "      background-color: #434B5C;\n",
              "      box-shadow: 0px 1px 3px 1px rgba(0, 0, 0, 0.15);\n",
              "      filter: drop-shadow(0px 1px 2px rgba(0, 0, 0, 0.3));\n",
              "      fill: #FFFFFF;\n",
              "    }\n",
              "  </style>\n",
              "\n",
              "      <script>\n",
              "        const buttonEl =\n",
              "          document.querySelector('#df-01ee3dab-c0af-4285-8a53-1a3f46f9da92 button.colab-df-convert');\n",
              "        buttonEl.style.display =\n",
              "          google.colab.kernel.accessAllowed ? 'block' : 'none';\n",
              "\n",
              "        async function convertToInteractive(key) {\n",
              "          const element = document.querySelector('#df-01ee3dab-c0af-4285-8a53-1a3f46f9da92');\n",
              "          const dataTable =\n",
              "            await google.colab.kernel.invokeFunction('convertToInteractive',\n",
              "                                                     [key], {});\n",
              "          if (!dataTable) return;\n",
              "\n",
              "          const docLinkHtml = 'Like what you see? Visit the ' +\n",
              "            '<a target=\"_blank\" href=https://colab.research.google.com/notebooks/data_table.ipynb>data table notebook</a>'\n",
              "            + ' to learn more about interactive tables.';\n",
              "          element.innerHTML = '';\n",
              "          dataTable['output_type'] = 'display_data';\n",
              "          await google.colab.output.renderOutput(dataTable, element);\n",
              "          const docLink = document.createElement('div');\n",
              "          docLink.innerHTML = docLinkHtml;\n",
              "          element.appendChild(docLink);\n",
              "        }\n",
              "      </script>\n",
              "    </div>\n",
              "  </div>\n",
              "  "
            ]
          },
          "metadata": {},
          "execution_count": 34
        }
      ]
    }
  ],
  "metadata": {
    "colab": {
      "name": "app.py",
      "provenance": [],
      "collapsed_sections": [],
      "mount_file_id": "1S_6RW142XL71VYV49bMoG_FpU6Mkw3Y_",
      "authorship_tag": "ABX9TyPhZjdygCa0DBVt6UqAF6/I",
      "include_colab_link": true
    },
    "kernelspec": {
      "display_name": "Python 3",
      "name": "python3"
    },
    "language_info": {
      "name": "python"
    }
  },
  "nbformat": 4,
  "nbformat_minor": 0
}